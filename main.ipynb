{
 "cells": [
  {
   "cell_type": "code",
   "execution_count": 1,
   "metadata": {},
   "outputs": [],
   "source": [
    "from HistoTransfer.compute_feat import *\n",
    "from HistoTransfer.dataloader import *\n",
    "from HistoTransfer.model import *\n",
    "from HistoTransfer.train import *\n",
    "from HistoTransfer.eval_model import *\n",
    "from HistoTransfer.utils import *\n",
    "\n",
    "import torch.optim as optim\n",
    "\n",
    "device = torch.device(\"cuda:0\" if torch.cuda.is_available() else \"cpu\")"
   ]
  },
  {
   "cell_type": "markdown",
   "metadata": {},
   "source": [
    "### Stage 1\n",
    "\n",
    "- Read Patch CSV file:\n",
    "    - path: location of each patch\n",
    "    - wsi: Unique identifier for WSI\n",
    "    - label: Label of WSI (Binary 0 or 1)\n",
    "    - is_valid: If WSI part of validation cohort\n",
    "- Get Base Model\n",
    "- Compute Feature\n",
    "- Train Model on the feature\n",
    "- Get attention map for top patches\n",
    "- Generate filtered CSV"
   ]
  },
  {
   "cell_type": "markdown",
   "metadata": {},
   "source": [
    "#### Path and Files"
   ]
  },
  {
   "cell_type": "code",
   "execution_count": 2,
   "metadata": {},
   "outputs": [],
   "source": [
    "df_train_val = pd.read_csv('data/11-3-2021 celiac_normal_train_valid_split.csv')\n",
    "df_test = pd.read_csv('data/11-3-2021 celiac_normal_test_split.csv')\n",
    "\n",
    "feature_csv_path = 'csv/backbone_resnet18_imagenet_norm_imagenet/'\n",
    "model_csv_path = 'trained_model/12-6-2021 celiac_csv_model_alpha1_resnet18_lr1e3.pt'"
   ]
  },
  {
   "cell_type": "markdown",
   "metadata": {},
   "source": [
    "#### Get Model for feature generation"
   ]
  },
  {
   "cell_type": "code",
   "execution_count": 3,
   "metadata": {},
   "outputs": [],
   "source": [
    "def get_backbone(model_name='resnet', truncate_layer='layer4'):\n",
    "    \n",
    "    \n",
    "    if model_name == 'resnet':\n",
    "        resnet = models.resnet18(pretrained=True)\n",
    "        module_list = []\n",
    "        for k,v in resnet.named_children():\n",
    "            module_list.append(v)\n",
    "            if k == truncate_layer:\n",
    "                break\n",
    "        model = nn.Sequential(*module_list+[list(resnet.children())[-2]])\n",
    "        \n",
    "    elif model_name == 'densenet':\n",
    "        densenet = models.densenet121(pretrained=True)\n",
    "        module_list = []\n",
    "        for k,v in densenet.features.named_children():\n",
    "            module_list.append(v)\n",
    "            if k == truncate_layer:\n",
    "                break\n",
    "\n",
    "        model = nn.Sequential(*module_list+[nn.AdaptiveAvgPool2d(output_size=(1, 1))])        \n",
    "        \n",
    "    return model"
   ]
  },
  {
   "cell_type": "markdown",
   "metadata": {},
   "source": [
    "#### Generate Features"
   ]
  },
  {
   "cell_type": "code",
   "execution_count": 14,
   "metadata": {
    "scrolled": true
   },
   "outputs": [
    {
     "name": "stderr",
     "output_type": "stream",
     "text": [
      "100%|██████████| 22/22 [03:01<00:00,  8.23s/it]\n"
     ]
    }
   ],
   "source": [
    "# Get Model\n",
    "model = get_backbone('resnet', 'layer4')\n",
    "model = model.to(device)\n",
    "model.eval()\n",
    "\n",
    "#Data Transformation\n",
    "\n",
    "data_transforms = albumentations.Compose([\n",
    "    albumentations.Normalize(),\n",
    "    ToTensorV2()\n",
    "    ])    \n",
    "\n",
    "# Compute Feature\n",
    "df = pd.concat([df_train_val, df_test])\n",
    "\n",
    "images = dict(df.groupby('wsi')['path'].apply(list))\n",
    "compute_feat_wsi(images, model, data_transforms, output_path=feature_csv_path)"
   ]
  },
  {
   "cell_type": "markdown",
   "metadata": {},
   "source": [
    "#### Frozen Feature Model"
   ]
  },
  {
   "cell_type": "code",
   "execution_count": 6,
   "metadata": {},
   "outputs": [],
   "source": [
    "# Model\n",
    "model = WSIFeatClassifier(feat_dim=512).to(device)\n",
    "\n",
    "# Cross Entropy Loss \n",
    "criterion_ce = nn.CrossEntropyLoss()\n",
    "criterion_dic = {'CE': criterion_ce}\n",
    "\n",
    "# Optimizer\n",
    "optimizer = optim.Adam(model.parameters(), lr=1e-3)"
   ]
  },
  {
   "cell_type": "code",
   "execution_count": 7,
   "metadata": {
    "scrolled": true
   },
   "outputs": [
    {
     "name": "stdout",
     "output_type": "stream",
     "text": [
      "Epoch 0/19\n",
      "----------\n",
      "train Loss WSI: 0.7300  Acc: 0.6667\n",
      "val Loss WSI: 0.6813  Acc: 0.6000\n",
      "Epoch 1/19\n",
      "----------\n",
      "train Loss WSI: 0.6447  Acc: 0.6667\n",
      "val Loss WSI: 0.6789  Acc: 0.6000\n",
      "Epoch 2/19\n",
      "----------\n",
      "train Loss WSI: 0.6409  Acc: 0.6667\n",
      "val Loss WSI: 0.6709  Acc: 0.6000\n",
      "Epoch 3/19\n",
      "----------\n",
      "train Loss WSI: 0.6852  Acc: 0.6667\n",
      "val Loss WSI: 0.7064  Acc: 0.6000\n",
      "Epoch 4/19\n",
      "----------\n",
      "train Loss WSI: 0.6605  Acc: 0.6667\n",
      "val Loss WSI: 0.6671  Acc: 0.6000\n",
      "Epoch 5/19\n",
      "----------\n",
      "train Loss WSI: 0.6405  Acc: 0.6667\n",
      "val Loss WSI: 0.6785  Acc: 0.6000\n",
      "Epoch 6/19\n",
      "----------\n",
      "train Loss WSI: 0.6511  Acc: 0.6667\n",
      "val Loss WSI: 0.6615  Acc: 0.6000\n",
      "Epoch 7/19\n",
      "----------\n",
      "train Loss WSI: 0.6210  Acc: 0.6667\n",
      "val Loss WSI: 0.6722  Acc: 0.6000\n",
      "Epoch 8/19\n",
      "----------\n",
      "train Loss WSI: 0.6172  Acc: 0.6667\n",
      "val Loss WSI: 0.6750  Acc: 0.6000\n",
      "Epoch 9/19\n",
      "----------\n",
      "train Loss WSI: 0.6160  Acc: 0.6667\n",
      "val Loss WSI: 0.6592  Acc: 0.6000\n",
      "Epoch 10/19\n",
      "----------\n",
      "train Loss WSI: 0.6064  Acc: 0.6667\n",
      "val Loss WSI: 0.6449  Acc: 0.6000\n",
      "Epoch 11/19\n",
      "----------\n",
      "train Loss WSI: 0.5908  Acc: 0.6667\n",
      "val Loss WSI: 0.6501  Acc: 0.6000\n",
      "Epoch 12/19\n",
      "----------\n",
      "train Loss WSI: 0.5851  Acc: 0.6667\n",
      "val Loss WSI: 0.6485  Acc: 0.6000\n",
      "Epoch 13/19\n",
      "----------\n",
      "train Loss WSI: 0.5670  Acc: 0.6667\n",
      "val Loss WSI: 0.6226  Acc: 0.6000\n",
      "Epoch 14/19\n",
      "----------\n",
      "train Loss WSI: 0.5523  Acc: 0.6667\n",
      "val Loss WSI: 0.6153  Acc: 0.6000\n",
      "Epoch 15/19\n",
      "----------\n",
      "train Loss WSI: 0.5647  Acc: 0.8333\n",
      "val Loss WSI: 0.6062  Acc: 0.6000\n",
      "Epoch 16/19\n",
      "----------\n",
      "train Loss WSI: 0.6495  Acc: 0.6667\n",
      "val Loss WSI: 0.6006  Acc: 0.6000\n",
      "Epoch 17/19\n",
      "----------\n",
      "train Loss WSI: 0.6052  Acc: 0.6667\n",
      "val Loss WSI: 0.6200  Acc: 0.6000\n",
      "Epoch 18/19\n",
      "----------\n",
      "train Loss WSI: 0.5923  Acc: 0.7500\n",
      "val Loss WSI: 0.6224  Acc: 0.8000\n",
      "Epoch 19/19\n",
      "----------\n",
      "train Loss WSI: 0.5132  Acc: 0.8333\n",
      "val Loss WSI: 0.5917  Acc: 0.6000\n",
      "Training complete in 0m 16s\n",
      "Best val Acc: 0.800000\n"
     ]
    }
   ],
   "source": [
    "model = train_csv_model(model, \n",
    "                        criterion_dic, \n",
    "                        optimizer, \n",
    "                        df_train_val, \n",
    "                        feature_csv_path, \n",
    "                        alpha=1., \n",
    "                        beta=0., \n",
    "                        num_epochs=20, \\\n",
    "                        fpath=model_csv_path)"
   ]
  },
  {
   "cell_type": "markdown",
   "metadata": {},
   "source": [
    "#### Validate Model on Test Data"
   ]
  },
  {
   "cell_type": "code",
   "execution_count": 8,
   "metadata": {
    "scrolled": true
   },
   "outputs": [
    {
     "name": "stderr",
     "output_type": "stream",
     "text": [
      "100%|██████████| 22/22 [00:00<00:00, 29.47it/s]\n"
     ]
    },
    {
     "name": "stdout",
     "output_type": "stream",
     "text": [
      "Accuracy: 0.8181818181818182\n",
      "Auc Score: 0.8928571428571428\n"
     ]
    },
    {
     "data": {
      "text/plain": [
       "(0.8181818181818182, 0.8928571428571428)"
      ]
     },
     "execution_count": 8,
     "metadata": {},
     "output_type": "execute_result"
    }
   ],
   "source": [
    "validate_csv_model(df_test, model, feature_csv_path)"
   ]
  },
  {
   "cell_type": "markdown",
   "metadata": {},
   "source": [
    "### Stage 2\n",
    "\n",
    "- Extract Top Attended Patches - Top 64 extracted\n",
    "- FineTune using those Patches"
   ]
  },
  {
   "cell_type": "code",
   "execution_count": 9,
   "metadata": {},
   "outputs": [],
   "source": [
    "enc_attn = EncAttn(model).to(device)\n",
    "\n",
    "df_attn_train_val = get_attn_patches(df_train_val, enc_attn, feature_csv_path)\n",
    "df_attn_train_val = pd.merge(df_attn_train_val, df_train_val[['path', 'is_valid']])"
   ]
  },
  {
   "cell_type": "markdown",
   "metadata": {},
   "source": [
    "#### Fine-tuning Model"
   ]
  },
  {
   "cell_type": "code",
   "execution_count": 17,
   "metadata": {
    "scrolled": true
   },
   "outputs": [],
   "source": [
    "model = WSIClassifier(base_model='resnet18').to(device)\n",
    "model.apply(set_bn_eval)\n",
    "model = model.to(device)"
   ]
  },
  {
   "cell_type": "code",
   "execution_count": 18,
   "metadata": {},
   "outputs": [],
   "source": [
    "# Data Transforms\n",
    "data_transforms = albumentations.Compose([\n",
    "    albumentations.Normalize(),\n",
    "    ToTensorV2()\n",
    "    ])    "
   ]
  },
  {
   "cell_type": "code",
   "execution_count": 19,
   "metadata": {},
   "outputs": [],
   "source": [
    "# Cross Entropy Loss \n",
    "criterion_ce = nn.CrossEntropyLoss()\n",
    "criterion_dic = {'CE': criterion_ce}\n",
    "\n",
    "# Observe that all parameters are being optimized\n",
    "optimizer = optim.Adam(model.parameters(), lr=1e-5)"
   ]
  },
  {
   "cell_type": "code",
   "execution_count": 20,
   "metadata": {},
   "outputs": [],
   "source": [
    "# Copy weights of later layer from csv model\n",
    "\n",
    "checkpoint = torch.load(model_csv_path)\n",
    "\n",
    "with torch.no_grad():\n",
    "    model.tail[0].weight.copy_(checkpoint['state_dict']['tail.0.weight'])\n",
    "    model.tail[0].bias.copy_(checkpoint['state_dict']['tail.0.bias'])    \n",
    "    model.tail[2].weight.copy_(checkpoint['state_dict']['tail.2.weight'])\n",
    "    model.tail[2].bias.copy_(checkpoint['state_dict']['tail.2.bias'])        \n",
    "    model.attention[0].weight.copy_(checkpoint['state_dict']['attention.0.weight'])\n",
    "    model.attention[0].bias.copy_(checkpoint['state_dict']['attention.0.bias'])    \n",
    "    model.attention[2].weight.copy_(checkpoint['state_dict']['attention.2.weight'])\n",
    "    model.attention[2].bias.copy_(checkpoint['state_dict']['attention.2.bias'])        \n",
    "    model.classifier[0].weight.copy_(checkpoint['state_dict']['classifier.0.weight'])\n",
    "    model.classifier[0].bias.copy_(checkpoint['state_dict']['classifier.0.bias'])            \n",
    "    model.patch_classifier[0].weight.copy_(checkpoint['state_dict']['patch_classifier.0.weight'])\n",
    "    model.patch_classifier[0].bias.copy_(checkpoint['state_dict']['patch_classifier.0.bias'])                "
   ]
  },
  {
   "cell_type": "code",
   "execution_count": 23,
   "metadata": {},
   "outputs": [
    {
     "name": "stderr",
     "output_type": "stream",
     "text": [
      "\r",
      "  0%|          | 0/12 [00:00<?, ?it/s]"
     ]
    },
    {
     "name": "stdout",
     "output_type": "stream",
     "text": [
      "Epoch 0/19\n",
      "----------\n"
     ]
    },
    {
     "name": "stderr",
     "output_type": "stream",
     "text": [
      "100%|██████████| 12/12 [00:34<00:00,  2.87s/it]\n",
      "  0%|          | 0/10 [00:00<?, ?it/s]"
     ]
    },
    {
     "name": "stdout",
     "output_type": "stream",
     "text": [
      "train Loss WSI: 0.5864  Acc: 0.7500\n"
     ]
    },
    {
     "name": "stderr",
     "output_type": "stream",
     "text": [
      "100%|██████████| 10/10 [00:18<00:00,  1.84s/it]\n"
     ]
    },
    {
     "name": "stdout",
     "output_type": "stream",
     "text": [
      "val Loss WSI: 0.5322  Acc: 0.6000\n"
     ]
    },
    {
     "name": "stderr",
     "output_type": "stream",
     "text": [
      "\r",
      "  0%|          | 0/12 [00:00<?, ?it/s]"
     ]
    },
    {
     "name": "stdout",
     "output_type": "stream",
     "text": [
      "Epoch 1/19\n",
      "----------\n"
     ]
    },
    {
     "name": "stderr",
     "output_type": "stream",
     "text": [
      "100%|██████████| 12/12 [00:33<00:00,  2.75s/it]\n",
      "  0%|          | 0/10 [00:00<?, ?it/s]"
     ]
    },
    {
     "name": "stdout",
     "output_type": "stream",
     "text": [
      "train Loss WSI: 0.5773  Acc: 0.8333\n"
     ]
    },
    {
     "name": "stderr",
     "output_type": "stream",
     "text": [
      "100%|██████████| 10/10 [00:16<00:00,  1.70s/it]\n"
     ]
    },
    {
     "name": "stdout",
     "output_type": "stream",
     "text": [
      "val Loss WSI: 0.5106  Acc: 0.7000\n"
     ]
    },
    {
     "name": "stderr",
     "output_type": "stream",
     "text": [
      "\r",
      "  0%|          | 0/12 [00:00<?, ?it/s]"
     ]
    },
    {
     "name": "stdout",
     "output_type": "stream",
     "text": [
      "Epoch 2/19\n",
      "----------\n"
     ]
    },
    {
     "name": "stderr",
     "output_type": "stream",
     "text": [
      "100%|██████████| 12/12 [00:31<00:00,  2.61s/it]\n",
      "  0%|          | 0/10 [00:00<?, ?it/s]"
     ]
    },
    {
     "name": "stdout",
     "output_type": "stream",
     "text": [
      "train Loss WSI: 0.4948  Acc: 0.8333\n"
     ]
    },
    {
     "name": "stderr",
     "output_type": "stream",
     "text": [
      "100%|██████████| 10/10 [00:15<00:00,  1.50s/it]\n",
      "  0%|          | 0/12 [00:00<?, ?it/s]"
     ]
    },
    {
     "name": "stdout",
     "output_type": "stream",
     "text": [
      "val Loss WSI: 0.5525  Acc: 0.6000\n",
      "Epoch 3/19\n",
      "----------\n"
     ]
    },
    {
     "name": "stderr",
     "output_type": "stream",
     "text": [
      "100%|██████████| 12/12 [00:31<00:00,  2.64s/it]\n",
      "  0%|          | 0/10 [00:00<?, ?it/s]"
     ]
    },
    {
     "name": "stdout",
     "output_type": "stream",
     "text": [
      "train Loss WSI: 0.5287  Acc: 0.6667\n"
     ]
    },
    {
     "name": "stderr",
     "output_type": "stream",
     "text": [
      "100%|██████████| 10/10 [00:16<00:00,  1.62s/it]\n"
     ]
    },
    {
     "name": "stdout",
     "output_type": "stream",
     "text": [
      "val Loss WSI: 0.4997  Acc: 0.7000\n"
     ]
    },
    {
     "name": "stderr",
     "output_type": "stream",
     "text": [
      "\r",
      "  0%|          | 0/12 [00:00<?, ?it/s]"
     ]
    },
    {
     "name": "stdout",
     "output_type": "stream",
     "text": [
      "Epoch 4/19\n",
      "----------\n"
     ]
    },
    {
     "name": "stderr",
     "output_type": "stream",
     "text": [
      "100%|██████████| 12/12 [00:30<00:00,  2.56s/it]\n",
      "  0%|          | 0/10 [00:00<?, ?it/s]"
     ]
    },
    {
     "name": "stdout",
     "output_type": "stream",
     "text": [
      "train Loss WSI: 0.4954  Acc: 0.8333\n"
     ]
    },
    {
     "name": "stderr",
     "output_type": "stream",
     "text": [
      "100%|██████████| 10/10 [00:17<00:00,  1.71s/it]\n"
     ]
    },
    {
     "name": "stdout",
     "output_type": "stream",
     "text": [
      "val Loss WSI: 0.4662  Acc: 0.7000\n"
     ]
    },
    {
     "name": "stderr",
     "output_type": "stream",
     "text": [
      "\r",
      "  0%|          | 0/12 [00:00<?, ?it/s]"
     ]
    },
    {
     "name": "stdout",
     "output_type": "stream",
     "text": [
      "Epoch 5/19\n",
      "----------\n"
     ]
    },
    {
     "name": "stderr",
     "output_type": "stream",
     "text": [
      "100%|██████████| 12/12 [00:34<00:00,  2.85s/it]\n",
      "  0%|          | 0/10 [00:00<?, ?it/s]"
     ]
    },
    {
     "name": "stdout",
     "output_type": "stream",
     "text": [
      "train Loss WSI: 0.5731  Acc: 0.8333\n"
     ]
    },
    {
     "name": "stderr",
     "output_type": "stream",
     "text": [
      "100%|██████████| 10/10 [00:17<00:00,  1.73s/it]\n",
      "  0%|          | 0/12 [00:00<?, ?it/s]"
     ]
    },
    {
     "name": "stdout",
     "output_type": "stream",
     "text": [
      "val Loss WSI: 0.6020  Acc: 0.6000\n",
      "Epoch 6/19\n",
      "----------\n"
     ]
    },
    {
     "name": "stderr",
     "output_type": "stream",
     "text": [
      "100%|██████████| 12/12 [00:31<00:00,  2.63s/it]\n",
      "  0%|          | 0/10 [00:00<?, ?it/s]"
     ]
    },
    {
     "name": "stdout",
     "output_type": "stream",
     "text": [
      "train Loss WSI: 0.6155  Acc: 0.5833\n"
     ]
    },
    {
     "name": "stderr",
     "output_type": "stream",
     "text": [
      "100%|██████████| 10/10 [00:17<00:00,  1.75s/it]\n"
     ]
    },
    {
     "name": "stdout",
     "output_type": "stream",
     "text": [
      "val Loss WSI: 0.5208  Acc: 1.0000\n"
     ]
    },
    {
     "name": "stderr",
     "output_type": "stream",
     "text": [
      "\r",
      "  0%|          | 0/12 [00:00<?, ?it/s]"
     ]
    },
    {
     "name": "stdout",
     "output_type": "stream",
     "text": [
      "Epoch 7/19\n",
      "----------\n"
     ]
    },
    {
     "name": "stderr",
     "output_type": "stream",
     "text": [
      "100%|██████████| 12/12 [00:34<00:00,  2.88s/it]\n",
      "  0%|          | 0/10 [00:00<?, ?it/s]"
     ]
    },
    {
     "name": "stdout",
     "output_type": "stream",
     "text": [
      "train Loss WSI: 0.4478  Acc: 0.9167\n"
     ]
    },
    {
     "name": "stderr",
     "output_type": "stream",
     "text": [
      "100%|██████████| 10/10 [00:13<00:00,  1.37s/it]\n",
      "  0%|          | 0/12 [00:00<?, ?it/s]"
     ]
    },
    {
     "name": "stdout",
     "output_type": "stream",
     "text": [
      "val Loss WSI: 0.5500  Acc: 0.6000\n",
      "Epoch 8/19\n",
      "----------\n"
     ]
    },
    {
     "name": "stderr",
     "output_type": "stream",
     "text": [
      "100%|██████████| 12/12 [00:31<00:00,  2.59s/it]\n",
      "  0%|          | 0/10 [00:00<?, ?it/s]"
     ]
    },
    {
     "name": "stdout",
     "output_type": "stream",
     "text": [
      "train Loss WSI: 0.4622  Acc: 0.7500\n"
     ]
    },
    {
     "name": "stderr",
     "output_type": "stream",
     "text": [
      "100%|██████████| 10/10 [00:13<00:00,  1.36s/it]\n",
      "  0%|          | 0/12 [00:00<?, ?it/s]"
     ]
    },
    {
     "name": "stdout",
     "output_type": "stream",
     "text": [
      "val Loss WSI: 0.5758  Acc: 0.6000\n",
      "Epoch 9/19\n",
      "----------\n"
     ]
    },
    {
     "name": "stderr",
     "output_type": "stream",
     "text": [
      "100%|██████████| 12/12 [00:28<00:00,  2.41s/it]\n",
      "  0%|          | 0/10 [00:00<?, ?it/s]"
     ]
    },
    {
     "name": "stdout",
     "output_type": "stream",
     "text": [
      "train Loss WSI: 0.4243  Acc: 0.8333\n"
     ]
    },
    {
     "name": "stderr",
     "output_type": "stream",
     "text": [
      "100%|██████████| 10/10 [00:14<00:00,  1.43s/it]\n",
      "  0%|          | 0/12 [00:00<?, ?it/s]"
     ]
    },
    {
     "name": "stdout",
     "output_type": "stream",
     "text": [
      "val Loss WSI: 0.4375  Acc: 0.7000\n",
      "Epoch 10/19\n",
      "----------\n"
     ]
    },
    {
     "name": "stderr",
     "output_type": "stream",
     "text": [
      "100%|██████████| 12/12 [00:32<00:00,  2.71s/it]\n",
      "  0%|          | 0/10 [00:00<?, ?it/s]"
     ]
    },
    {
     "name": "stdout",
     "output_type": "stream",
     "text": [
      "train Loss WSI: 0.4011  Acc: 0.8333\n"
     ]
    },
    {
     "name": "stderr",
     "output_type": "stream",
     "text": [
      "100%|██████████| 10/10 [00:16<00:00,  1.67s/it]\n",
      "  0%|          | 0/12 [00:00<?, ?it/s]"
     ]
    },
    {
     "name": "stdout",
     "output_type": "stream",
     "text": [
      "val Loss WSI: 0.4439  Acc: 0.7000\n",
      "Epoch 11/19\n",
      "----------\n"
     ]
    },
    {
     "name": "stderr",
     "output_type": "stream",
     "text": [
      "100%|██████████| 12/12 [00:32<00:00,  2.75s/it]\n",
      "  0%|          | 0/10 [00:00<?, ?it/s]"
     ]
    },
    {
     "name": "stdout",
     "output_type": "stream",
     "text": [
      "train Loss WSI: 0.4202  Acc: 0.7500\n"
     ]
    },
    {
     "name": "stderr",
     "output_type": "stream",
     "text": [
      "100%|██████████| 10/10 [00:15<00:00,  1.58s/it]\n",
      "  0%|          | 0/12 [00:00<?, ?it/s]"
     ]
    },
    {
     "name": "stdout",
     "output_type": "stream",
     "text": [
      "val Loss WSI: 0.4717  Acc: 0.7000\n",
      "Epoch 12/19\n",
      "----------\n"
     ]
    },
    {
     "name": "stderr",
     "output_type": "stream",
     "text": [
      "100%|██████████| 12/12 [00:31<00:00,  2.63s/it]\n",
      "  0%|          | 0/10 [00:00<?, ?it/s]"
     ]
    },
    {
     "name": "stdout",
     "output_type": "stream",
     "text": [
      "train Loss WSI: 0.4805  Acc: 0.8333\n"
     ]
    },
    {
     "name": "stderr",
     "output_type": "stream",
     "text": [
      "100%|██████████| 10/10 [00:14<00:00,  1.42s/it]\n"
     ]
    },
    {
     "name": "stdout",
     "output_type": "stream",
     "text": [
      "val Loss WSI: 0.3904  Acc: 1.0000\n"
     ]
    },
    {
     "name": "stderr",
     "output_type": "stream",
     "text": [
      "\r",
      "  0%|          | 0/12 [00:00<?, ?it/s]"
     ]
    },
    {
     "name": "stdout",
     "output_type": "stream",
     "text": [
      "Epoch 13/19\n",
      "----------\n"
     ]
    },
    {
     "name": "stderr",
     "output_type": "stream",
     "text": [
      "100%|██████████| 12/12 [00:32<00:00,  2.75s/it]\n",
      "  0%|          | 0/10 [00:00<?, ?it/s]"
     ]
    },
    {
     "name": "stdout",
     "output_type": "stream",
     "text": [
      "train Loss WSI: 0.3832  Acc: 0.8333\n"
     ]
    },
    {
     "name": "stderr",
     "output_type": "stream",
     "text": [
      "100%|██████████| 10/10 [00:16<00:00,  1.65s/it]\n",
      "  0%|          | 0/12 [00:00<?, ?it/s]"
     ]
    },
    {
     "name": "stdout",
     "output_type": "stream",
     "text": [
      "val Loss WSI: 0.3748  Acc: 0.7000\n",
      "Epoch 14/19\n",
      "----------\n"
     ]
    },
    {
     "name": "stderr",
     "output_type": "stream",
     "text": [
      "100%|██████████| 12/12 [00:32<00:00,  2.68s/it]\n",
      "  0%|          | 0/10 [00:00<?, ?it/s]"
     ]
    },
    {
     "name": "stdout",
     "output_type": "stream",
     "text": [
      "train Loss WSI: 0.3831  Acc: 0.8333\n"
     ]
    },
    {
     "name": "stderr",
     "output_type": "stream",
     "text": [
      "100%|██████████| 10/10 [00:15<00:00,  1.54s/it]\n",
      "  0%|          | 0/12 [00:00<?, ?it/s]"
     ]
    },
    {
     "name": "stdout",
     "output_type": "stream",
     "text": [
      "val Loss WSI: 0.3570  Acc: 0.9000\n",
      "Epoch 15/19\n",
      "----------\n"
     ]
    },
    {
     "name": "stderr",
     "output_type": "stream",
     "text": [
      "100%|██████████| 12/12 [00:32<00:00,  2.70s/it]\n",
      "  0%|          | 0/10 [00:00<?, ?it/s]"
     ]
    },
    {
     "name": "stdout",
     "output_type": "stream",
     "text": [
      "train Loss WSI: 0.3128  Acc: 1.0000\n"
     ]
    },
    {
     "name": "stderr",
     "output_type": "stream",
     "text": [
      "100%|██████████| 10/10 [00:16<00:00,  1.64s/it]\n",
      "  0%|          | 0/12 [00:00<?, ?it/s]"
     ]
    },
    {
     "name": "stdout",
     "output_type": "stream",
     "text": [
      "val Loss WSI: 0.3437  Acc: 0.9000\n",
      "Epoch 16/19\n",
      "----------\n"
     ]
    },
    {
     "name": "stderr",
     "output_type": "stream",
     "text": [
      "100%|██████████| 12/12 [00:31<00:00,  2.61s/it]\n",
      "  0%|          | 0/10 [00:00<?, ?it/s]"
     ]
    },
    {
     "name": "stdout",
     "output_type": "stream",
     "text": [
      "train Loss WSI: 0.2716  Acc: 0.8333\n"
     ]
    },
    {
     "name": "stderr",
     "output_type": "stream",
     "text": [
      "100%|██████████| 10/10 [00:16<00:00,  1.62s/it]\n",
      "  0%|          | 0/12 [00:00<?, ?it/s]"
     ]
    },
    {
     "name": "stdout",
     "output_type": "stream",
     "text": [
      "val Loss WSI: 0.3511  Acc: 0.7000\n",
      "Epoch 17/19\n",
      "----------\n"
     ]
    },
    {
     "name": "stderr",
     "output_type": "stream",
     "text": [
      "100%|██████████| 12/12 [00:30<00:00,  2.55s/it]\n",
      "  0%|          | 0/10 [00:00<?, ?it/s]"
     ]
    },
    {
     "name": "stdout",
     "output_type": "stream",
     "text": [
      "train Loss WSI: 0.2704  Acc: 0.8333\n"
     ]
    },
    {
     "name": "stderr",
     "output_type": "stream",
     "text": [
      "100%|██████████| 10/10 [00:14<00:00,  1.40s/it]\n",
      "  0%|          | 0/12 [00:00<?, ?it/s]"
     ]
    },
    {
     "name": "stdout",
     "output_type": "stream",
     "text": [
      "val Loss WSI: 0.3943  Acc: 0.7000\n",
      "Epoch 18/19\n",
      "----------\n"
     ]
    },
    {
     "name": "stderr",
     "output_type": "stream",
     "text": [
      "100%|██████████| 12/12 [00:31<00:00,  2.64s/it]\n",
      "  0%|          | 0/10 [00:00<?, ?it/s]"
     ]
    },
    {
     "name": "stdout",
     "output_type": "stream",
     "text": [
      "train Loss WSI: 0.2582  Acc: 0.9167\n"
     ]
    },
    {
     "name": "stderr",
     "output_type": "stream",
     "text": [
      "100%|██████████| 10/10 [00:14<00:00,  1.46s/it]\n",
      "  0%|          | 0/12 [00:00<?, ?it/s]"
     ]
    },
    {
     "name": "stdout",
     "output_type": "stream",
     "text": [
      "val Loss WSI: 0.4415  Acc: 0.7000\n",
      "Epoch 19/19\n",
      "----------\n"
     ]
    },
    {
     "name": "stderr",
     "output_type": "stream",
     "text": [
      "100%|██████████| 12/12 [00:30<00:00,  2.54s/it]\n",
      "  0%|          | 0/10 [00:00<?, ?it/s]"
     ]
    },
    {
     "name": "stdout",
     "output_type": "stream",
     "text": [
      "train Loss WSI: 0.2574  Acc: 0.9167\n"
     ]
    },
    {
     "name": "stderr",
     "output_type": "stream",
     "text": [
      "100%|██████████| 10/10 [00:16<00:00,  1.66s/it]\n"
     ]
    },
    {
     "name": "stdout",
     "output_type": "stream",
     "text": [
      "val Loss WSI: 0.2637  Acc: 1.0000\n",
      "Training complete in 15m 60s\n",
      "Best val Acc: 1.000000\n"
     ]
    }
   ],
   "source": [
    "model = finetune_model(model,criterion_dic, optimizer, df_attn_train_val, data_transforms,\\\n",
    "                       alpha=1., beta=0., num_epochs=20, \\\n",
    "                       fpath='trained_model/12-6-2021 celiac_finetune_model_alpha1_resnet18.pt')"
   ]
  },
  {
   "cell_type": "markdown",
   "metadata": {},
   "source": [
    "#### Validating Model"
   ]
  },
  {
   "cell_type": "code",
   "execution_count": 26,
   "metadata": {},
   "outputs": [
    {
     "name": "stderr",
     "output_type": "stream",
     "text": [
      "100%|██████████| 22/22 [01:28<00:00,  4.04s/it]"
     ]
    },
    {
     "name": "stdout",
     "output_type": "stream",
     "text": [
      "Test Accuracy:  0.9090909090909091\n",
      "AUC Score:  0.9969098284797144\n"
     ]
    },
    {
     "name": "stderr",
     "output_type": "stream",
     "text": [
      "\n"
     ]
    }
   ],
   "source": [
    "pred_df = eval_test(model, df_test, data_transforms)"
   ]
  }
 ],
 "metadata": {
  "kernelspec": {
   "display_name": "PyTorch 1.5.1 Py3.7",
   "language": "python",
   "name": "pytorch-1.5.1"
  },
  "language_info": {
   "codemirror_mode": {
    "name": "ipython",
    "version": 3
   },
   "file_extension": ".py",
   "mimetype": "text/x-python",
   "name": "python",
   "nbconvert_exporter": "python",
   "pygments_lexer": "ipython3",
   "version": "3.7.7"
  }
 },
 "nbformat": 4,
 "nbformat_minor": 2
}
